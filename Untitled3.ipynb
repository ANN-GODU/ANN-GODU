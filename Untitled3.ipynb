{
  "nbformat": 4,
  "nbformat_minor": 0,
  "metadata": {
    "colab": {
      "provenance": []
    },
    "kernelspec": {
      "name": "python3",
      "display_name": "Python 3"
    },
    "language_info": {
      "name": "python"
    }
  },
  "cells": [
    {
      "cell_type": "code",
      "execution_count": null,
      "metadata": {
        "id": "ETeVbWS8bmHP"
      },
      "outputs": [],
      "source": [
        "#Assignment2"
      ]
    },
    {
      "cell_type": "markdown",
      "source": [],
      "metadata": {
        "id": "HzUhnBkubpQn"
      }
    },
    {
      "cell_type": "code",
      "source": [
        " #1 area of the rectangle"
      ],
      "metadata": {
        "id": "oCSCJB9jbyb-"
      },
      "execution_count": null,
      "outputs": []
    },
    {
      "cell_type": "code",
      "source": [
        "height=int (input('enter a number'))\n",
        "width=int (input('enter a number'))\n",
        "a=height*width\n",
        "print(a)"
      ],
      "metadata": {
        "colab": {
          "base_uri": "https://localhost:8080/"
        },
        "id": "pvlEw6sGb6fb",
        "outputId": "49ed9e4b-2cae-4496-b66b-101470a24de6"
      },
      "execution_count": null,
      "outputs": [
        {
          "output_type": "stream",
          "name": "stdout",
          "text": [
            "enter a number6\n",
            "enter a number7\n",
            "42\n"
          ]
        }
      ]
    },
    {
      "cell_type": "code",
      "source": [
        "\n",
        "#2 sum, difference,product,quotient"
      ],
      "metadata": {
        "id": "zWOrSwDRc73N"
      },
      "execution_count": null,
      "outputs": []
    },
    {
      "cell_type": "code",
      "source": [
        "a=int (input('enter a number'))\n",
        "b=int (input('enter a number'))\n",
        "s=a+b\n",
        "d=a-b\n",
        "p=a*b\n",
        "q=a/b\n",
        "print(s)\n",
        "print(d)\n",
        "print(p)\n",
        "print(q)"
      ],
      "metadata": {
        "id": "PN1n7v8_dIn_",
        "colab": {
          "base_uri": "https://localhost:8080/"
        },
        "outputId": "35b0dcec-21d6-4660-ea69-f17e898a5a4f"
      },
      "execution_count": null,
      "outputs": [
        {
          "output_type": "stream",
          "name": "stdout",
          "text": [
            "enter a number5\n",
            "enter a number2\n",
            "7\n",
            "3\n",
            "10\n",
            "2.5\n"
          ]
        }
      ]
    },
    {
      "cell_type": "code",
      "source": [
        "#3 convert temperature from fahrenheit"
      ],
      "metadata": {
        "id": "9MnNRPO0eMEP"
      },
      "execution_count": null,
      "outputs": []
    },
    {
      "cell_type": "code",
      "source": [
        "F=float(input('enter a number'))\n",
        "C=(F-32)*5/9\n",
        "print(C)"
      ],
      "metadata": {
        "id": "lhGW7SaOefQm",
        "colab": {
          "base_uri": "https://localhost:8080/"
        },
        "outputId": "bffafe85-eaad-4f45-9220-94db975458b0"
      },
      "execution_count": null,
      "outputs": [
        {
          "output_type": "stream",
          "name": "stdout",
          "text": [
            "enter a number10\n",
            "-12.222222222222221\n"
          ]
        }
      ]
    },
    {
      "cell_type": "code",
      "source": [
        "#4"
      ],
      "metadata": {
        "id": "u9vDYejqgUfP"
      },
      "execution_count": null,
      "outputs": []
    },
    {
      "cell_type": "code",
      "source": [
        "num=int(input('enter a number'))\n",
        "if a>0:\n",
        " print('num is positive')\n",
        "elif a<0:\n",
        " print('num is negative')"
      ],
      "metadata": {
        "colab": {
          "base_uri": "https://localhost:8080/"
        },
        "id": "yFjYo-HjgdGg",
        "outputId": "3e7d94e8-0931-470d-d790-f090dccc512e"
      },
      "execution_count": null,
      "outputs": [
        {
          "output_type": "stream",
          "name": "stdout",
          "text": [
            "enter a number52\n",
            "num is positive\n"
          ]
        }
      ]
    },
    {
      "cell_type": "code",
      "source": [
        "#5"
      ],
      "metadata": {
        "id": "s3BdrXGBhgvP"
      },
      "execution_count": null,
      "outputs": []
    },
    {
      "cell_type": "code",
      "source": [
        "y=int(input('enter a number'))\n",
        "if y%4==0:\n",
        "  print(\"it is a leap year\")\n",
        "elif y%4!=0:\n",
        "  print(\"it is not a leap year\")\n",
        "elif y%400==0:\n",
        "  print(\"it is a leap year\")\n",
        "elif y%400!=0:\n",
        "  print(\"it is not a leap year\")"
      ],
      "metadata": {
        "colab": {
          "base_uri": "https://localhost:8080/"
        },
        "id": "Ivv2Go3ihhqb",
        "outputId": "d30393a9-dd06-4ffe-9d64-548587d6f924"
      },
      "execution_count": null,
      "outputs": [
        {
          "output_type": "stream",
          "name": "stdout",
          "text": [
            "enter a number2006\n",
            "it is not a leap year\n"
          ]
        }
      ]
    },
    {
      "cell_type": "code",
      "source": [
        "#6"
      ],
      "metadata": {
        "id": "Yw6aHCJ6iVU-"
      },
      "execution_count": null,
      "outputs": []
    },
    {
      "cell_type": "code",
      "source": [
        "mark=int(input('enter mark'))\n",
        "if mark>90:\n",
        "  print('A')\n",
        "elif mark>80:\n",
        "  print('B')\n",
        "elif mark>70:\n",
        "  print('C')\n",
        "elif mark>60:\n",
        "  print('D')\n",
        "else:\n",
        "  print('F')"
      ],
      "metadata": {
        "colab": {
          "base_uri": "https://localhost:8080/"
        },
        "id": "i-502Y3iiXA6",
        "outputId": "796fe6df-025b-492e-81ec-365cf67f8ebc"
      },
      "execution_count": null,
      "outputs": [
        {
          "output_type": "stream",
          "name": "stdout",
          "text": [
            "enter mark20\n",
            "F\n"
          ]
        }
      ]
    },
    {
      "cell_type": "code",
      "source": [
        "#7"
      ],
      "metadata": {
        "id": "OPZUZidzjEld"
      },
      "execution_count": null,
      "outputs": []
    },
    {
      "cell_type": "code",
      "source": [
        "for num in range(10,0,-1):\n",
        "  print(num)"
      ],
      "metadata": {
        "colab": {
          "base_uri": "https://localhost:8080/"
        },
        "id": "x2c_9jwzjIGq",
        "outputId": "bbacce1a-ed12-4660-d960-a30bdc3a194b"
      },
      "execution_count": null,
      "outputs": [
        {
          "output_type": "stream",
          "name": "stdout",
          "text": [
            "10\n",
            "9\n",
            "8\n",
            "7\n",
            "6\n",
            "5\n",
            "4\n",
            "3\n",
            "2\n",
            "1\n"
          ]
        }
      ]
    },
    {
      "cell_type": "code",
      "source": [
        "#9\n"
      ],
      "metadata": {
        "id": "mDCC03izjNqq"
      },
      "execution_count": null,
      "outputs": []
    },
    {
      "cell_type": "code",
      "source": [
        "n=int(input('enter a number'))\n",
        "for i in range(1,11):\n",
        "  print(i,'x',n,'=',i*n)"
      ],
      "metadata": {
        "colab": {
          "base_uri": "https://localhost:8080/"
        },
        "id": "A-PkPrXSjTMq",
        "outputId": "db3f6342-6e61-4748-fbc1-b7b93d5cd169"
      },
      "execution_count": null,
      "outputs": [
        {
          "output_type": "stream",
          "name": "stdout",
          "text": [
            "enter a number5\n",
            "1 x 5 = 5\n",
            "2 x 5 = 10\n",
            "3 x 5 = 15\n",
            "4 x 5 = 20\n",
            "5 x 5 = 25\n",
            "6 x 5 = 30\n",
            "7 x 5 = 35\n",
            "8 x 5 = 40\n",
            "9 x 5 = 45\n",
            "10 x 5 = 50\n"
          ]
        }
      ]
    },
    {
      "cell_type": "code",
      "source": [],
      "metadata": {
        "id": "3T-dYS5cjmIp"
      },
      "execution_count": null,
      "outputs": []
    }
  ]
}