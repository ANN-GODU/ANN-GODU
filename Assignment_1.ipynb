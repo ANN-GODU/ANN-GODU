{
  "nbformat": 4,
  "nbformat_minor": 0,
  "metadata": {
    "colab": {
      "provenance": []
    },
    "kernelspec": {
      "name": "python3",
      "display_name": "Python 3"
    },
    "language_info": {
      "name": "python"
    }
  },
  "cells": [
    {
      "cell_type": "code",
      "source": [
        "#assignment1"
      ],
      "metadata": {
        "id": "k-ffOTU5oAhN"
      },
      "execution_count": null,
      "outputs": []
    },
    {
      "cell_type": "code",
      "source": [
        "a=int(input(\"enter first number:\"))\n",
        "b=int(input(\"enter second number:\"))\n",
        "s=a+b\n",
        "print(s)"
      ],
      "metadata": {
        "id": "9cGPCHoOoalI",
        "outputId": "b4f04ea0-54ce-4abf-869f-6e2ecfd2ed40",
        "colab": {
          "base_uri": "https://localhost:8080/"
        }
      },
      "execution_count": null,
      "outputs": [
        {
          "output_type": "stream",
          "name": "stdout",
          "text": [
            "enter first number:1\n",
            "enter second number:2\n",
            "3\n"
          ]
        }
      ]
    },
    {
      "cell_type": "code",
      "source": [
        "a=int(input(\"enter first number:\"))\n",
        "b=int(input(\"enter second number:\"))\n",
        "p=a*b\n",
        "print(p)"
      ],
      "metadata": {
        "id": "KwSMbHHWpDb9",
        "outputId": "69b1346c-9e31-4298-8c7e-bf92c016dc25",
        "colab": {
          "base_uri": "https://localhost:8080/"
        }
      },
      "execution_count": null,
      "outputs": [
        {
          "output_type": "stream",
          "name": "stdout",
          "text": [
            "enter first number:1\n",
            "enter second number:3\n",
            "3\n"
          ]
        }
      ]
    },
    {
      "cell_type": "code",
      "source": [
        "from binascii import b2a_base64\n",
        "a=int(input(\"enter first number:\"))\n",
        "b=int(input(\"enter second number:\"))\n",
        "s=a/b\n",
        "d=a%b\n",
        "print(s)\n",
        "print(d)"
      ],
      "metadata": {
        "id": "uaJrv0JCpU4O",
        "colab": {
          "base_uri": "https://localhost:8080/"
        },
        "outputId": "023aac3d-0755-4416-da07-2bb7dec8f346"
      },
      "execution_count": null,
      "outputs": [
        {
          "output_type": "stream",
          "name": "stdout",
          "text": [
            "enter first number:6\n",
            "enter second number:6\n",
            "1.0\n",
            "0\n"
          ]
        }
      ]
    },
    {
      "cell_type": "code",
      "source": [
        "x=\"string\"\n",
        "len(x)"
      ],
      "metadata": {
        "id": "ys7Jf0P1qdth",
        "outputId": "32353aa0-d4ae-464c-9bea-1da87a8e0f20",
        "colab": {
          "base_uri": "https://localhost:8080/"
        }
      },
      "execution_count": null,
      "outputs": [
        {
          "output_type": "execute_result",
          "data": {
            "text/plain": [
              "6"
            ]
          },
          "metadata": {},
          "execution_count": 5
        }
      ]
    },
    {
      "cell_type": "code",
      "source": [
        "a=input(\"enter the string\")\n",
        "count=a.count(\"o\")\n",
        "print(count)"
      ],
      "metadata": {
        "id": "d3_WH-EWrAT7",
        "outputId": "e40eecef-c8d1-4150-867d-4c7c43ec7a98",
        "colab": {
          "base_uri": "https://localhost:8080/"
        }
      },
      "execution_count": null,
      "outputs": [
        {
          "output_type": "stream",
          "name": "stdout",
          "text": [
            "enter the stringCook\n",
            "2\n"
          ]
        }
      ]
    },
    {
      "cell_type": "code",
      "source": [
        "S=input('enter the string')\n",
        "r=S.upper()\n",
        "print(r)"
      ],
      "metadata": {
        "id": "adERftJbrQym",
        "outputId": "1396fe18-6231-455f-b5ae-d3143b980fca",
        "colab": {
          "base_uri": "https://localhost:8080/"
        }
      },
      "execution_count": null,
      "outputs": [
        {
          "output_type": "stream",
          "name": "stdout",
          "text": [
            "enter the stringFlower\n",
            "FLOWER\n"
          ]
        }
      ]
    },
    {
      "cell_type": "code",
      "source": [
        "a=input('enter the string')\n",
        "b=a.lower()\n",
        "print(b)"
      ],
      "metadata": {
        "id": "O4VVeaUmrVAd",
        "outputId": "00c75188-97ce-447d-e7a6-6dea84f97b25",
        "colab": {
          "base_uri": "https://localhost:8080/"
        }
      },
      "execution_count": null,
      "outputs": [
        {
          "output_type": "stream",
          "name": "stdout",
          "text": [
            "enter the stringFLOWER\n",
            "flower\n"
          ]
        }
      ]
    }
  ]
}